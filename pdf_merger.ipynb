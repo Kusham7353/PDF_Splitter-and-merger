{
  "nbformat": 4,
  "nbformat_minor": 0,
  "metadata": {
    "colab": {
      "provenance": [],
      "authorship_tag": "ABX9TyPMpZlqpahQRJMNng1qFHyZ",
      "include_colab_link": true
    },
    "kernelspec": {
      "name": "python3",
      "display_name": "Python 3"
    },
    "language_info": {
      "name": "python"
    }
  },
  "cells": [
    {
      "cell_type": "markdown",
      "metadata": {
        "id": "view-in-github",
        "colab_type": "text"
      },
      "source": [
        "<a href=\"https://colab.research.google.com/github/Kusham7353/PDF_Splitter-and-merger/blob/main/pdf_merger.ipynb\" target=\"_parent\"><img src=\"https://colab.research.google.com/assets/colab-badge.svg\" alt=\"Open In Colab\"/></a>"
      ]
    },
    {
      "cell_type": "code",
      "source": [
        "!pip install PyPDF2"
      ],
      "metadata": {
        "colab": {
          "base_uri": "https://localhost:8080/"
        },
        "id": "2BJAcFd-m9fq",
        "outputId": "09323f53-dde6-488e-a903-b833bd68ad15"
      },
      "execution_count": 6,
      "outputs": [
        {
          "output_type": "stream",
          "name": "stdout",
          "text": [
            "Requirement already satisfied: PyPDF2 in /usr/local/lib/python3.10/dist-packages (3.0.1)\n"
          ]
        }
      ]
    },
    {
      "cell_type": "code",
      "execution_count": 7,
      "metadata": {
        "id": "ADWtIObcm52K"
      },
      "outputs": [],
      "source": [
        "import os\n",
        "from PyPDF2 import PdfReader, PdfWriter\n",
        "def merge_pdf(input_pdf1,input_pdf2, output_dir):\n",
        "    if not os.path.exists(output_dir):\n",
        "        os.makedirs(output_dir)\n",
        "\n",
        "    pdf1 = PdfReader(open(input_pdf1, \"rb\"))\n",
        "    pdf2 = PdfReader(open(input_pdf2, \"rb\"))\n",
        "    total_pages = len(pdf1.pages) +len(pdf2.pages)\n",
        "\n",
        "\n",
        "    part_writer = PdfWriter()\n",
        "\n",
        "\n",
        "    for page_num in range(len(pdf1.pages)):\n",
        "        if page_num < len(pdf1.pages):\n",
        "            part_writer.add_page(pdf1.pages[page_num])\n",
        "\n",
        "    for page_num in range(len(pdf2.pages)):\n",
        "        if page_num < len(pdf2.pages):\n",
        "            part_writer.add_page(pdf2.pages[page_num])\n",
        "\n",
        "    # Save the two parts\n",
        "    part_filename = os.path.join(output_dir, 'part.pdf')\n",
        "\n",
        "\n",
        "    with open(part_filename, 'wb') as part_pdf:\n",
        "        part_writer.write(part_pdf)\n",
        "\n",
        "\n",
        "\n",
        "    print(f'Created: {part_filename}')\n",
        "\n",
        "\n",
        "if __name__ == \"_main_\":\n",
        "    input_pdf1 = '/content/part1.pdf'  # Replace with the path to your input PDF file\n",
        "    input_pdf2 = '/content/part2.pdf'\n",
        "    output_dir = '/content/output'  # Replace with the directory where you want to save the output PDFs\n",
        "    merge_pdf(input_pdf1,input_pdf2, output_dir)"
      ]
    }
  ]
}